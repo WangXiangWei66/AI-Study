{
 "cells": [
  {
   "cell_type": "code",
   "execution_count": 1,
   "id": "8dfcf7fc-9ca2-4c19-8018-a54a64df472e",
   "metadata": {},
   "outputs": [],
   "source": [
    "import numpy as np\n",
    "import pandas as pd\n",
    "import matplotlib.pyplot as plt"
   ]
  },
  {
   "cell_type": "code",
   "execution_count": 2,
   "id": "c563d042-9126-498a-84a4-ce40f530e26f",
   "metadata": {},
   "outputs": [],
   "source": [
    "from sklearn.metrics import explained_variance_score"
   ]
  },
  {
   "cell_type": "code",
   "execution_count": 3,
   "id": "f7390f05-b38e-4cad-b846-44a0c5f4b08c",
   "metadata": {},
   "outputs": [],
   "source": [
    "y_true = np.array([1, 3.2, 5.6, 7.8, 9.9, 11.2])\n",
    "y_pred = np.array([0.8, 2.9, 5.9, 7.5, 9.7, 11.0])"
   ]
  },
  {
   "cell_type": "code",
   "execution_count": 4,
   "id": "2e5b721e-db17-4a82-95ec-cb5973436cff",
   "metadata": {},
   "outputs": [
    {
     "data": {
      "text/plain": [
       "0.996700097055969"
      ]
     },
     "execution_count": 4,
     "metadata": {},
     "output_type": "execute_result"
    }
   ],
   "source": [
    "explained_variance_score(y_true,y_pred)"
   ]
  },
  {
   "cell_type": "code",
   "execution_count": 5,
   "id": "3442038c-4f62-4233-bd53-29f3314e0112",
   "metadata": {},
   "outputs": [],
   "source": [
    "y_true = np.array([1, 3.2, 5.6, 7.8, 9.9, 11.2])\n",
    "y_pred = np.array([0.8, 2.9, 5.9, 7.5, 9.7, 115])"
   ]
  },
  {
   "cell_type": "code",
   "execution_count": 6,
   "id": "f01104af-5dd8-492a-8d11-6bb9d4d108cd",
   "metadata": {},
   "outputs": [
    {
     "data": {
      "text/plain": [
       "-115.50842230130483"
      ]
     },
     "execution_count": 6,
     "metadata": {},
     "output_type": "execute_result"
    }
   ],
   "source": [
    "explained_variance_score(y_true,y_pred)"
   ]
  },
  {
   "cell_type": "code",
   "execution_count": 7,
   "id": "d8585cb7-3b78-4515-8910-6a228906b195",
   "metadata": {},
   "outputs": [],
   "source": [
    "y_true = np.array([[0.5, 1], [-1, 1], [7, -6]])\n",
    "y_pred = np.array([[0, 2], [-1, 2], [8, -5]])"
   ]
  },
  {
   "cell_type": "code",
   "execution_count": 8,
   "id": "99ed03fe-ba9e-4dc2-a04d-01dab3bac7db",
   "metadata": {},
   "outputs": [
    {
     "data": {
      "text/plain": [
       "0.9838709677419355"
      ]
     },
     "execution_count": 8,
     "metadata": {},
     "output_type": "execute_result"
    }
   ],
   "source": [
    "explained_variance_score(y_true, y_pred)"
   ]
  },
  {
   "cell_type": "code",
   "execution_count": 10,
   "id": "b70147d6-c998-4a68-bade-fe9d8480cd94",
   "metadata": {},
   "outputs": [
    {
     "data": {
      "text/plain": [
       "array([0.96774194, 1.        ])"
      ]
     },
     "execution_count": 10,
     "metadata": {},
     "output_type": "execute_result"
    }
   ],
   "source": [
    "#multioutput='raw_values':对每个输出维度单独计算解释方差分\n",
    "explained_variance_score(y_true, y_pred, multioutput='raw_values')"
   ]
  },
  {
   "cell_type": "code",
   "execution_count": 11,
   "id": "dc504bdf-5b0b-49f6-8aec-d8ebf59a4d6d",
   "metadata": {},
   "outputs": [
    {
     "data": {
      "text/plain": [
       "np.float64(0.98387097)"
      ]
     },
     "execution_count": 11,
     "metadata": {},
     "output_type": "execute_result"
    }
   ],
   "source": [
    "np.array([0.96774194, 1.        ]).mean()"
   ]
  },
  {
   "cell_type": "code",
   "execution_count": 12,
   "id": "e798758a-8c7f-43be-bd8f-909a1ccbd881",
   "metadata": {},
   "outputs": [
    {
     "data": {
      "text/plain": [
       "0.9903225806451612"
      ]
     },
     "execution_count": 12,
     "metadata": {},
     "output_type": "execute_result"
    }
   ],
   "source": [
    "explained_variance_score(y_true, y_pred, multioutput=[0.3, 0.7])"
   ]
  },
  {
   "cell_type": "code",
   "execution_count": 13,
   "id": "57f1296c-bfef-4dcb-ab51-48582c897061",
   "metadata": {},
   "outputs": [
    {
     "data": {
      "text/plain": [
       "0.9903225819999999"
      ]
     },
     "execution_count": 13,
     "metadata": {},
     "output_type": "execute_result"
    }
   ],
   "source": [
    "0.96774194 * 0.3 + 1 * 0.7"
   ]
  },
  {
   "cell_type": "code",
   "execution_count": 15,
   "id": "5379359b-34f0-4a74-855e-d89c8564e2d6",
   "metadata": {},
   "outputs": [],
   "source": [
    "from sklearn.metrics import mean_absolute_error"
   ]
  },
  {
   "cell_type": "code",
   "execution_count": 16,
   "id": "ad23db1d-4771-4488-9e55-444ab1f3fef8",
   "metadata": {},
   "outputs": [],
   "source": [
    "y_true = np.array([1, 3.2, 5.6, 7.8, 9.9, 11.2])\n",
    "y_pred = np.array([0.8, 2.9, 5.9, 7.5, 9.7, 11.0])"
   ]
  },
  {
   "cell_type": "code",
   "execution_count": 17,
   "id": "48facf15-ee46-4be4-af7b-82bb8c0a3fe9",
   "metadata": {},
   "outputs": [
    {
     "data": {
      "text/plain": [
       "0.25000000000000017"
      ]
     },
     "execution_count": 17,
     "metadata": {},
     "output_type": "execute_result"
    }
   ],
   "source": [
    "mean_absolute_error(y_true, y_pred)"
   ]
  },
  {
   "cell_type": "code",
   "execution_count": 18,
   "id": "05e78cb7-db51-4f03-8ca8-3bdb860d8e44",
   "metadata": {},
   "outputs": [
    {
     "data": {
      "text/plain": [
       "17.516666666666666"
      ]
     },
     "execution_count": 18,
     "metadata": {},
     "output_type": "execute_result"
    }
   ],
   "source": [
    "y_true = np.array([1, 3.2, 5.6, 7.8, 9.9, 11.2])\n",
    "y_pred = np.array([0.8, 2.9, 5.9, 7.5, 9.7, 115])\n",
    "mean_absolute_error(y_true, y_pred)"
   ]
  },
  {
   "cell_type": "code",
   "execution_count": 19,
   "id": "1716b937-60b2-4b82-ab49-3d0e2da1b9f9",
   "metadata": {},
   "outputs": [],
   "source": [
    "from sklearn.metrics import mean_squared_error"
   ]
  },
  {
   "cell_type": "code",
   "execution_count": 20,
   "id": "3b17bba0-33a7-4f22-a331-1d19c3ce3356",
   "metadata": {},
   "outputs": [
    {
     "data": {
      "text/plain": [
       "0.0650000000000001"
      ]
     },
     "execution_count": 20,
     "metadata": {},
     "output_type": "execute_result"
    }
   ],
   "source": [
    "y_true = np.array([1, 3.2, 5.6, 7.8, 9.9, 11.2])\n",
    "y_pred = np.array([0.8, 2.9, 5.9, 7.5, 9.7, 11.0])\n",
    "mean_squared_error(y_true, y_pred)"
   ]
  },
  {
   "cell_type": "code",
   "execution_count": 21,
   "id": "2cb2455a-c3c5-4742-84a4-cbaa0cab3b9a",
   "metadata": {},
   "outputs": [
    {
     "data": {
      "text/plain": [
       "1795.7983333333332"
      ]
     },
     "execution_count": 21,
     "metadata": {},
     "output_type": "execute_result"
    }
   ],
   "source": [
    "# 也容易受到异常值影响\n",
    "y_true = np.array([1, 3.2, 5.6, 7.8, 9.9, 11.2])\n",
    "y_pred = np.array([0.8, 2.9, 5.9, 7.5, 9.7, 115])\n",
    "mean_squared_error(y_true, y_pred)"
   ]
  },
  {
   "cell_type": "code",
   "execution_count": 22,
   "id": "0b06cac1-3d4a-454c-afa7-c5c731b8e9a9",
   "metadata": {},
   "outputs": [
    {
     "data": {
      "text/plain": [
       "13833333.333333334"
      ]
     },
     "execution_count": 22,
     "metadata": {},
     "output_type": "execute_result"
    }
   ],
   "source": [
    "# 目标值本身很大, 比如说房价\n",
    "y_true = np.array([60000, 78000, 100000, 120000, 135000, 150000])\n",
    "y_pred = np.array([58000, 76000, 105000, 115000, 138000, 146000])\n",
    "mean_squared_error(y_true, y_pred)"
   ]
  },
  {
   "cell_type": "code",
   "execution_count": 23,
   "id": "129406b9-c679-417c-90cd-073c250e11fa",
   "metadata": {},
   "outputs": [],
   "source": [
    "from sklearn.metrics import mean_squared_log_error"
   ]
  },
  {
   "cell_type": "code",
   "execution_count": 24,
   "id": "eb0a4eff-05be-4c6d-aae8-68f6f72f83c8",
   "metadata": {},
   "outputs": [
    {
     "data": {
      "text/plain": [
       "0.001204885453244805"
      ]
     },
     "execution_count": 24,
     "metadata": {},
     "output_type": "execute_result"
    }
   ],
   "source": [
    "y_true = np.array([60000, 78000, 100000, 120000, 135000, 150000])\n",
    "y_pred = np.array([58000, 76000, 105000, 115000, 138000, 146000])\n",
    "mean_squared_log_error(y_true, y_pred)"
   ]
  },
  {
   "cell_type": "code",
   "execution_count": 25,
   "id": "73ff58b9-af4b-4491-8a80-fa7092ee2d4f",
   "metadata": {},
   "outputs": [
    {
     "ename": "ValueError",
     "evalue": "Mean Squared Logarithmic Error cannot be used when targets contain values less than or equal to -1.",
     "output_type": "error",
     "traceback": [
      "\u001b[31m---------------------------------------------------------------------------\u001b[39m",
      "\u001b[31mValueError\u001b[39m                                Traceback (most recent call last)",
      "\u001b[36mCell\u001b[39m\u001b[36m \u001b[39m\u001b[32mIn[25]\u001b[39m\u001b[32m, line 4\u001b[39m\n\u001b[32m      2\u001b[39m y_true = np.array([-\u001b[32m60000\u001b[39m, \u001b[32m78000\u001b[39m, \u001b[32m100000\u001b[39m, \u001b[32m120000\u001b[39m, \u001b[32m135000\u001b[39m, \u001b[32m150000\u001b[39m])\n\u001b[32m      3\u001b[39m y_pred = np.array([-\u001b[32m58000\u001b[39m, \u001b[32m76000\u001b[39m, \u001b[32m105000\u001b[39m, \u001b[32m115000\u001b[39m, \u001b[32m138000\u001b[39m, \u001b[32m146000\u001b[39m])\n\u001b[32m----> \u001b[39m\u001b[32m4\u001b[39m \u001b[43mmean_squared_log_error\u001b[49m\u001b[43m(\u001b[49m\u001b[43my_true\u001b[49m\u001b[43m,\u001b[49m\u001b[43m \u001b[49m\u001b[43my_pred\u001b[49m\u001b[43m)\u001b[49m\n",
      "\u001b[36mFile \u001b[39m\u001b[32mD:\\venv\\Lib\\site-packages\\sklearn\\utils\\_param_validation.py:216\u001b[39m, in \u001b[36mvalidate_params.<locals>.decorator.<locals>.wrapper\u001b[39m\u001b[34m(*args, **kwargs)\u001b[39m\n\u001b[32m    210\u001b[39m \u001b[38;5;28;01mtry\u001b[39;00m:\n\u001b[32m    211\u001b[39m     \u001b[38;5;28;01mwith\u001b[39;00m config_context(\n\u001b[32m    212\u001b[39m         skip_parameter_validation=(\n\u001b[32m    213\u001b[39m             prefer_skip_nested_validation \u001b[38;5;129;01mor\u001b[39;00m global_skip_validation\n\u001b[32m    214\u001b[39m         )\n\u001b[32m    215\u001b[39m     ):\n\u001b[32m--> \u001b[39m\u001b[32m216\u001b[39m         \u001b[38;5;28;01mreturn\u001b[39;00m \u001b[43mfunc\u001b[49m\u001b[43m(\u001b[49m\u001b[43m*\u001b[49m\u001b[43margs\u001b[49m\u001b[43m,\u001b[49m\u001b[43m \u001b[49m\u001b[43m*\u001b[49m\u001b[43m*\u001b[49m\u001b[43mkwargs\u001b[49m\u001b[43m)\u001b[49m\n\u001b[32m    217\u001b[39m \u001b[38;5;28;01mexcept\u001b[39;00m InvalidParameterError \u001b[38;5;28;01mas\u001b[39;00m e:\n\u001b[32m    218\u001b[39m     \u001b[38;5;66;03m# When the function is just a wrapper around an estimator, we allow\u001b[39;00m\n\u001b[32m    219\u001b[39m     \u001b[38;5;66;03m# the function to delegate validation to the estimator, but we replace\u001b[39;00m\n\u001b[32m    220\u001b[39m     \u001b[38;5;66;03m# the name of the estimator by the name of the function in the error\u001b[39;00m\n\u001b[32m    221\u001b[39m     \u001b[38;5;66;03m# message to avoid confusion.\u001b[39;00m\n\u001b[32m    222\u001b[39m     msg = re.sub(\n\u001b[32m    223\u001b[39m         \u001b[33mr\u001b[39m\u001b[33m\"\u001b[39m\u001b[33mparameter of \u001b[39m\u001b[33m\\\u001b[39m\u001b[33mw+ must be\u001b[39m\u001b[33m\"\u001b[39m,\n\u001b[32m    224\u001b[39m         \u001b[33mf\u001b[39m\u001b[33m\"\u001b[39m\u001b[33mparameter of \u001b[39m\u001b[38;5;132;01m{\u001b[39;00mfunc.\u001b[34m__qualname__\u001b[39m\u001b[38;5;132;01m}\u001b[39;00m\u001b[33m must be\u001b[39m\u001b[33m\"\u001b[39m,\n\u001b[32m    225\u001b[39m         \u001b[38;5;28mstr\u001b[39m(e),\n\u001b[32m    226\u001b[39m     )\n",
      "\u001b[36mFile \u001b[39m\u001b[32mD:\\venv\\Lib\\site-packages\\sklearn\\metrics\\_regression.py:746\u001b[39m, in \u001b[36mmean_squared_log_error\u001b[39m\u001b[34m(y_true, y_pred, sample_weight, multioutput)\u001b[39m\n\u001b[32m    741\u001b[39m _, y_true, y_pred, _, _ = _check_reg_targets_with_floating_dtype(\n\u001b[32m    742\u001b[39m     y_true, y_pred, sample_weight, multioutput, xp=xp\n\u001b[32m    743\u001b[39m )\n\u001b[32m    745\u001b[39m \u001b[38;5;28;01mif\u001b[39;00m xp.any(y_true <= -\u001b[32m1\u001b[39m) \u001b[38;5;129;01mor\u001b[39;00m xp.any(y_pred <= -\u001b[32m1\u001b[39m):\n\u001b[32m--> \u001b[39m\u001b[32m746\u001b[39m     \u001b[38;5;28;01mraise\u001b[39;00m \u001b[38;5;167;01mValueError\u001b[39;00m(\n\u001b[32m    747\u001b[39m         \u001b[33m\"\u001b[39m\u001b[33mMean Squared Logarithmic Error cannot be used when \u001b[39m\u001b[33m\"\u001b[39m\n\u001b[32m    748\u001b[39m         \u001b[33m\"\u001b[39m\u001b[33mtargets contain values less than or equal to -1.\u001b[39m\u001b[33m\"\u001b[39m\n\u001b[32m    749\u001b[39m     )\n\u001b[32m    751\u001b[39m \u001b[38;5;28;01mreturn\u001b[39;00m mean_squared_error(\n\u001b[32m    752\u001b[39m     xp.log1p(y_true),\n\u001b[32m    753\u001b[39m     xp.log1p(y_pred),\n\u001b[32m    754\u001b[39m     sample_weight=sample_weight,\n\u001b[32m    755\u001b[39m     multioutput=multioutput,\n\u001b[32m    756\u001b[39m )\n",
      "\u001b[31mValueError\u001b[39m: Mean Squared Logarithmic Error cannot be used when targets contain values less than or equal to -1."
     ]
    }
   ],
   "source": [
    "# 注意均方对数误差的目标值不能有负的\n",
    "y_true = np.array([-60000, 78000, 100000, 120000, 135000, 150000])\n",
    "y_pred = np.array([-58000, 76000, 105000, 115000, 138000, 146000])\n",
    "mean_squared_log_error(y_true, y_pred)"
   ]
  },
  {
   "cell_type": "code",
   "execution_count": 26,
   "id": "7cd5d01b-a868-4073-a300-53f80783e07b",
   "metadata": {},
   "outputs": [],
   "source": [
    "from sklearn.metrics import median_absolute_error"
   ]
  },
  {
   "cell_type": "code",
   "execution_count": 27,
   "id": "c8ca1e59-c6e1-4617-9eee-1a2a3631cfc2",
   "metadata": {},
   "outputs": [
    {
     "data": {
      "text/plain": [
       "np.float64(0.30000000000000004)"
      ]
     },
     "execution_count": 27,
     "metadata": {},
     "output_type": "execute_result"
    }
   ],
   "source": [
    "y_true = np.array([1, 3.2, 5.6, 7.8, 9.9, 11.2])\n",
    "y_pred = np.array([0.8, 2.9, 5.9, 7.5, 9.7, 115])\n",
    "median_absolute_error(y_true, y_pred)"
   ]
  },
  {
   "cell_type": "code",
   "execution_count": 28,
   "id": "7e12267c-2742-472b-89a3-5538c0acabe1",
   "metadata": {},
   "outputs": [],
   "source": [
    "from sklearn.metrics import r2_score"
   ]
  },
  {
   "cell_type": "code",
   "execution_count": 29,
   "id": "59def454-ce05-4573-a97a-531977636a6a",
   "metadata": {},
   "outputs": [
    {
     "data": {
      "text/plain": [
       "-138.43435781300548"
      ]
     },
     "execution_count": 29,
     "metadata": {},
     "output_type": "execute_result"
    }
   ],
   "source": [
    "y_true = np.array([1, 3.2, 5.6, 7.8, 9.9, 11.2])\n",
    "y_pred = np.array([0.8, 2.9, 5.9, 7.5, 9.7, 115])\n",
    "r2_score(y_true, y_pred)"
   ]
  },
  {
   "cell_type": "code",
   "execution_count": 30,
   "id": "26033adf-f676-4138-9de9-60717a29dc51",
   "metadata": {},
   "outputs": [
    {
     "data": {
      "text/plain": [
       "0.9949530896150113"
      ]
     },
     "execution_count": 30,
     "metadata": {},
     "output_type": "execute_result"
    }
   ],
   "source": [
    "y_true = np.array([1, 3.2, 5.6, 7.8, 9.9, 11.2])\n",
    "y_pred = np.array([0.8, 2.9, 5.9, 7.5, 9.7, 11.0])\n",
    "r2_score(y_true, y_pred)"
   ]
  }
 ],
 "metadata": {
  "kernelspec": {
   "display_name": "Python 3 (ipykernel)",
   "language": "python",
   "name": "python3"
  },
  "language_info": {
   "codemirror_mode": {
    "name": "ipython",
    "version": 3
   },
   "file_extension": ".py",
   "mimetype": "text/x-python",
   "name": "python",
   "nbconvert_exporter": "python",
   "pygments_lexer": "ipython3",
   "version": "3.12.5"
  }
 },
 "nbformat": 4,
 "nbformat_minor": 5
}
